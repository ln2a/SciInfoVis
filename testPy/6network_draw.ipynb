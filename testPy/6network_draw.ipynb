{
 "cells": [
  {
   "cell_type": "markdown",
   "metadata": {},
   "source": [
    "为每一个簇选出最有影响力的作者和机构 前10%"
   ]
  },
  {
   "cell_type": "code",
   "execution_count": 1,
   "metadata": {},
   "outputs": [],
   "source": [
    "import json\n",
    "with open(\"../output_data/auCoop.json\", \"r\", encoding=\"utf-8\") as f:\n",
    "    jsonData = json.load(f)\n"
   ]
  },
  {
   "cell_type": "code",
   "execution_count": 2,
   "metadata": {},
   "outputs": [
    {
     "name": "stdout",
     "output_type": "stream",
     "text": [
      "50\n",
      "50\n",
      "61\n",
      "74\n",
      "111\n",
      "128\n",
      "300\n"
     ]
    }
   ],
   "source": [
    "def findMax(n):\n",
    "    # 保留前10%（至少50个）作者\n",
    "    dc={}\n",
    "    for node in jsonData[\"nodes\"]:\n",
    "        if int(node[\"cluster\"]) == n:\n",
    "            dc[node[\"id\"]]=node[\"coop\"]\n",
    "    ls=[(id,dc[id]) for id in dc]\n",
    "    ls.sort(key=lambda x:x[1],reverse=True)\n",
    "    l=len(ls)\n",
    "    l=int(l*0.1)\n",
    "    if l<50:\n",
    "        if len(ls)<50:\n",
    "            l=len(ls)\n",
    "        else:\n",
    "            l=50\n",
    "    ls=[id[0] for id in ls[:l]]\n",
    "    return ls\n",
    "\n",
    "c0=[]\n",
    "c0=findMax(0)\n",
    "print(len(c0))\n",
    "\n",
    "c1 = []\n",
    "c1 = findMax(1)\n",
    "print(len(c1))\n",
    "\n",
    "c2 = []\n",
    "c2 = findMax(2)\n",
    "print(len(c2))\n",
    "\n",
    "c3 = []\n",
    "c3 = findMax(3)\n",
    "print(len(c3))\n",
    "\n",
    "c4 = []\n",
    "c4 = findMax(4)\n",
    "print(len(c4))\n",
    "\n",
    "c5 = []\n",
    "c5 = findMax(5)\n",
    "print(len(c5))\n",
    "\n",
    "c6 = []\n",
    "c6 = findMax(6)\n",
    "print(len(c6))"
   ]
  },
  {
   "cell_type": "code",
   "execution_count": 3,
   "metadata": {},
   "outputs": [
    {
     "name": "stdout",
     "output_type": "stream",
     "text": [
      "774\n",
      "2855\n"
     ]
    }
   ],
   "source": [
    "cAll=[]\n",
    "cAll.append(c0)\n",
    "cAll.append(c1)\n",
    "cAll.append(c2)\n",
    "cAll.append(c3)\n",
    "cAll.append(c4)\n",
    "cAll.append(c5)\n",
    "cAll.append(c6)\n",
    "nodes=[]\n",
    "links=[]\n",
    "\n",
    "for node in jsonData[\"nodes\"]:\n",
    "    c= node[\"cluster\"]\n",
    "    id=node[\"id\"]\n",
    "    if id in cAll[c]:\n",
    "        nodes.append(node)\n",
    "print(len(nodes))\n",
    "\n",
    "for link in jsonData[\"links\"]:\n",
    "    c=link[\"cluster\"]\n",
    "    s=link[\"source\"]\n",
    "    t=link[\"target\"]\n",
    "    if s in cAll[c] and t in cAll[c]:\n",
    "        links.append(link)\n",
    "print(len(links))"
   ]
  },
  {
   "cell_type": "code",
   "execution_count": 4,
   "metadata": {},
   "outputs": [],
   "source": [
    "jsonData_Draw={\"nodes\":nodes,\"links\":links}\n",
    "with open(\"../output_data/auNet_Draw.json\", \"w\", encoding=\"utf-8\") as f:\n",
    "    json.dump(jsonData_Draw, f, indent=4, ensure_ascii=False)"
   ]
  },
  {
   "cell_type": "code",
   "execution_count": 5,
   "metadata": {},
   "outputs": [
    {
     "name": "stdout",
     "output_type": "stream",
     "text": [
      "774\n",
      "2855\n"
     ]
    }
   ],
   "source": [
    "with open(\"../output_data/auNet_Draw.json\", \"r\", encoding=\"utf-8\") as f:\n",
    "    jsonData = json.load(f)\n",
    "print(len(jsonData_Draw[\"nodes\"]))\n",
    "print(len(jsonData_Draw[\"links\"]))"
   ]
  },
  {
   "cell_type": "code",
   "execution_count": 1,
   "metadata": {},
   "outputs": [],
   "source": [
    "# 处理机构网络\n",
    "import json\n",
    "\n",
    "with open(\"../output_data/instCoop.json\", \"r\", encoding=\"utf-8\") as f:\n",
    "    jsonData = json.load(f)"
   ]
  },
  {
   "cell_type": "code",
   "execution_count": 15,
   "metadata": {},
   "outputs": [
    {
     "name": "stdout",
     "output_type": "stream",
     "text": [
      "30\n",
      "30\n",
      "38\n",
      "48\n",
      "70\n",
      "83\n",
      "198\n"
     ]
    }
   ],
   "source": [
    "def findMax(n):\n",
    "    # 保留前30%（至少30个）机构\n",
    "    dc = {}\n",
    "    for node in jsonData[\"nodes\"]:\n",
    "        if int(node[\"cluster\"]) == n:\n",
    "            dc[node[\"id\"]] = node[\"coop\"]\n",
    "    ls = [(id, dc[id]) for id in dc]\n",
    "    ls.sort(key=lambda x: x[1], reverse=True)\n",
    "    l = len(ls)\n",
    "    l = int(l * 0.3)\n",
    "    if l < 30:\n",
    "        if len(ls) < 30:\n",
    "            l = len(ls)\n",
    "        else:\n",
    "            l = 30\n",
    "    ls = [id[0] for id in ls[:l]]\n",
    "    return ls\n",
    "\n",
    "\n",
    "c0 = []\n",
    "c0 = findMax(0)\n",
    "print(len(c0))\n",
    "\n",
    "c1 = []\n",
    "c1 = findMax(1)\n",
    "print(len(c1))\n",
    "\n",
    "c2 = []\n",
    "c2 = findMax(2)\n",
    "print(len(c2))\n",
    "\n",
    "c3 = []\n",
    "c3 = findMax(3)\n",
    "print(len(c3))\n",
    "\n",
    "c4 = []\n",
    "c4 = findMax(4)\n",
    "print(len(c4))\n",
    "\n",
    "c5 = []\n",
    "c5 = findMax(5)\n",
    "print(len(c5))\n",
    "\n",
    "c6 = []\n",
    "c6 = findMax(6)\n",
    "print(len(c6))"
   ]
  },
  {
   "cell_type": "code",
   "execution_count": 16,
   "metadata": {},
   "outputs": [
    {
     "name": "stdout",
     "output_type": "stream",
     "text": [
      "497\n",
      "1625\n"
     ]
    }
   ],
   "source": [
    "cAll = []\n",
    "cAll.append(c0)\n",
    "cAll.append(c1)\n",
    "cAll.append(c2)\n",
    "cAll.append(c3)\n",
    "cAll.append(c4)\n",
    "cAll.append(c5)\n",
    "cAll.append(c6)\n",
    "nodes = []\n",
    "links = []\n",
    "\n",
    "for node in jsonData[\"nodes\"]:\n",
    "    c = node[\"cluster\"]\n",
    "    id = node[\"id\"]\n",
    "    if id in cAll[c]:\n",
    "        nodes.append(node)\n",
    "print(len(nodes))\n",
    "\n",
    "for link in jsonData[\"links\"]:\n",
    "    c = link[\"cluster\"]\n",
    "    s = link[\"source\"]\n",
    "    t = link[\"target\"]\n",
    "    if s in cAll[c] and t in cAll[c]:\n",
    "        links.append(link)\n",
    "print(len(links))"
   ]
  },
  {
   "cell_type": "code",
   "execution_count": 17,
   "metadata": {},
   "outputs": [
    {
     "name": "stdout",
     "output_type": "stream",
     "text": [
      "497\n",
      "1625\n"
     ]
    }
   ],
   "source": [
    "jsonData_Draw = {\"nodes\": nodes, \"links\": links}\n",
    "with open(\"../output_data/instNet_Draw.json\", \"w\", encoding=\"utf-8\") as f:\n",
    "    json.dump(jsonData_Draw, f, indent=4, ensure_ascii=False)\n",
    "with open(\"../output_data/instNet_Draw.json\", \"r\", encoding=\"utf-8\") as f:\n",
    "    jsonData = json.load(f)\n",
    "print(len(jsonData_Draw[\"nodes\"]))\n",
    "print(len(jsonData_Draw[\"links\"]))"
   ]
  }
 ],
 "metadata": {
  "kernelspec": {
   "display_name": "Python 3",
   "language": "python",
   "name": "python3"
  },
  "language_info": {
   "codemirror_mode": {
    "name": "ipython",
    "version": 3
   },
   "file_extension": ".py",
   "mimetype": "text/x-python",
   "name": "python",
   "nbconvert_exporter": "python",
   "pygments_lexer": "ipython3",
   "version": "3.13.1"
  }
 },
 "nbformat": 4,
 "nbformat_minor": 2
}
